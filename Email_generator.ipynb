{
 "cells": [
  {
   "cell_type": "code",
   "execution_count": 1,
   "id": "e3194370-b598-436f-916f-8305ac804bef",
   "metadata": {},
   "outputs": [],
   "source": [
    "from langchain_groq import ChatGroq\n"
   ]
  },
  {
   "cell_type": "code",
   "execution_count": 2,
   "id": "ba2a7907-3d3d-41d3-8261-1041c34eaa55",
   "metadata": {},
   "outputs": [
    {
     "name": "stdout",
     "output_type": "stream",
     "text": [
      "The first person to land on the moon was Neil Armstrong. He stepped onto the lunar surface on July 20, 1969, as part of the Apollo 11 mission.\n"
     ]
    }
   ],
   "source": [
    "llm = ChatGroq(\n",
    "    temperature=0, \n",
    "    groq_api_key='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', \n",
    "    model_name=\"llama-3.1-70b-versatile\"\n",
    ")\n",
    "response = llm.invoke(\"The first person to land on moon was ...\")\n",
    "print(response.content)"
   ]
  },
  {
   "cell_type": "code",
   "execution_count": 3,
   "id": "4fb83fcc-71de-43ad-8ca4-112b10bcf9c6",
   "metadata": {},
   "outputs": [
    {
     "name": "stderr",
     "output_type": "stream",
     "text": [
      "USER_AGENT environment variable not set, consider setting it to identify your requests.\n"
     ]
    },
    {
     "name": "stdout",
     "output_type": "stream",
     "text": [
      "\n",
      "\n",
      "\n",
      "\n",
      "\n",
      "\n",
      "\n",
      "\n",
      "\n",
      "\n",
      "\n",
      "\n",
      "\n",
      "\n",
      "\n",
      "\n",
      "\n",
      "\n",
      "Computer Science AI Reasoning Foundations Intern: 2025 - US | IBM\n",
      "\n",
      "\n",
      "\n",
      "\n",
      "\n",
      "\n",
      "\n",
      "\n",
      "\n",
      "\n",
      "\n",
      "\n",
      "\n",
      "\n",
      "\n",
      "\n",
      "\n",
      "\n",
      "\n",
      "\n",
      "\n",
      "\n",
      "\n",
      "\n",
      "\n",
      "\n",
      "\n",
      "\n",
      "\n",
      "\n",
      "\n",
      "\n",
      "\n",
      "\n",
      "\n",
      "\n",
      "\n",
      "\n",
      "\n",
      "\n",
      "\n",
      "\n",
      "\n",
      "\n",
      "\n",
      "\n",
      "\n",
      "\n",
      " \n",
      "\n",
      "\n",
      "\n",
      "Skip to content\n",
      "\n",
      "\n",
      "\n",
      "Toggle NavigationIBM CareersEnglish简体中文FrançaisFrançais Canadien日本語PortuguêsEspañolDeutschIBM Careers IBM Careers      English    简体中文    Français    Français Canadien    日本語    Português    Español    Deutsch      \n",
      " \n",
      "\n",
      "\n",
      "\n",
      "\n",
      "\n",
      "Job Details2024-01-04T09:25:13+00:00 \n",
      "\n",
      "727371BR\n",
      "\n",
      "\n",
      "Computer Science AI Reasoning Foundations Intern: 2025    Multiple Locations See All  Yorktown Heights  San Jose  Cambridge  Albany    Research Intern   Apply now Computer Science AI Reasoning Foundations Intern: 2025    Multiple Locations See All  Yorktown Heights  San Jose  Cambridge  Albany    Research Intern   Apply now IntroductionThe Exploratory Computer Sciences program at IBM Research is seeking candidates who will contribute to foundational research topics in AI. Start and end dates for this Internship are during Summer 2025 (3 months) at IBM Research in Yorktown Heights, New York. At IBM Research, we invent things that matter to the world. Today, we are pioneering the most promising and disruptive technologies that will transform industries and society, including the future of Hybrid Cloud and AI. And looking to the horizon, we are placing big bets on a pipeline of ambitious exploratory science breakthroughs which will be foundational for the future of computing. With more than 3,000 researchers in 12 labs located across six continents, IBM Research is one of the world’s largest and most influential corporate research labs.Your Role and Responsibilities This is for a 2025 summer internship with the following start dates: May – August or June – September for quarter system schools. IBM research interns are expected to develop innovative ideas and concepts (theoretical or experimental)  while performing advanced scientific or engineering tasks resulting in highly complex, original and creative scientific or engineering achievements.As an IBM Exploratory Computer Science intern, you will work closely with an assigned mentor on a project researching AI reasoning. This project may involve implementing AI architectures that can reason, and/or defining and running experiments on AI reasoning using existing AI architectures. You will also be expected to write a research report or paper on the research done during your internship, and present your work at internal research meetings and external workshops and/or conferences. Required Technical and Professional ExpertiseCandidates should be active graduate students that match well with the following: – Applicants should be PhD & MS students pursuing graduate studies.– Coursework in AI/ML/Math/CS such as AI architectures, foundation models, reasoning.– Experience in implementing AI algorithms in Python (using, e.g., PyTorch and/or TensorFlow)– Interest in one or more of the following topics: AI reasoning, symbolic and neuro-symbolic AI methodsPreferred Technical and Professional Expertise– Prior research experience, working with faculty members or staff, is a plus. Want to know what it’s like to be an IBMer?Sorry, your browser doesn't support embedded videos.About Business Unit About Business Unit IBM Research is the organic growth engine of IBM and an innovation engine for our customers and partners. As part of this mission, IBM Research anticipates and examines ‘What’s Next in Computing’ to ultimately create and integrate the technologies the world relies upon to solve big challenges and unlock new opportunities. We create and pioneer new markets for IBM, our partners and customers as exemplified in our ongoing quest to reach practical and large-scale quantum computing. Across IBM Research, we realize the power and potential to accelerate discovery with our partners and clients by combining the power of high performance computing, AI, and Quantum, all integrated through the hybrid cloud. Your Life @ IBM Your Life @ IBM In a world where technology never stands still, we understand that, dedication to our clients success, innovation that matters, and trust and personal responsibility in all our relationships, lives in what we do as IBMers as we strive to be the catalyst that makes the world work better. Being an IBMer means you’ll be able to learn and develop yourself and your career, you’ll be encouraged to be courageous and experiment everyday, all whilst having continuous trust and support in an environment where everyone can thrive whatever their personal or professional background. Our IBMers are growth minded, always staying curious, open to feedback and learning new information and skills to constantly transform themselves and our company. They are trusted to provide on-going feedback to help other IBMers grow, as well as collaborate with colleagues keeping in mind a team focused approach to include different perspectives to drive exceptional outcomes for our customers. The courage our IBMers have to make critical decisions everyday is essential to IBM becoming the catalyst for progress, always embracing challenges with resources they have to hand, a can-do attitude and always striving for an outcome focused approach within everything that they do. Are you ready to be an IBMer?  About IBM About IBM IBM’s greatest invention is the IBMer. We believe that through the application of intelligence, reason and science, we can improve business, society and the human condition, bringing the power of an open hybrid cloud and AI strategy to life for our clients and partners around the world. Restlessly reinventing since 1911, we are not only one of the largest corporate organizations in the world, we’re also one of the biggest technology and consulting employers, with many of the Fortune 50 companies relying on the IBM Cloud to run their business.  At IBM, we pride ourselves on being an early adopter of artificial intelligence, quantum computing and blockchain. Now it’s time for you to join us on our journey to being a responsible technology innovator and a force for good in the world. Other Relevant Job Details  Location Statement Supplemental 1 employees may be eligible for up to 8 paid holidays, minimum of 56 hours paid sick time and the IBM Employee Stock Purchase Plan. IBM offers paid family medical leave and disability benefits to eligible employees where required by applicable law.  The compensation range and benefits for this position are based on a full-time schedule for a full calendar year. The salary will vary depending on your job-related skills, experience and location. Pay increment and frequency of pay will be in accordance with employment classification and applicable laws. For part time roles, your compensation and benefits will be adjusted to reflect your hours. Benefits may be pro-rated for those who start working during the calendar year. This position was posted on the date cited in the key job details section and is anticipated to remain posted for 21 days from this date or less if not needed to fill the role.    We consider qualified applicants with criminal histories, consistent with applicable law. Being You @ IBM Being You @ IBM IBM is committed to creating a diverse environment and is proud to be an equal-opportunity employer. All qualified applicants will receive consideration for employment without regard to race, color, religion, sex, gender, gender identity or expression, sexual orientation, national origin, caste, genetics, pregnancy, disability, neurodivergence, age, veteran status, or other characteristics. IBM is also committed to compliance with all fair employment practices regarding citizenship and immigration status. Key Job Details Role:Computer Science AI Reasoning Foundations Intern: 2025 Location: Multiple Locations See All Yorktown Heights San Jose Cambridge Albany  Category:Research Employment Type:Full-time OR Part-time Travel Required:No Travel Contract Type:Internship Company:(0147) International Business Machines Corporation Req ID:727371BR   Projected Minimum Salary:$85,320 per year Projected Maximum Salary:$85,320-$156,420/year per year Date Posted:September 17, 2024  Apply now Don’t see a fit at this time?Don’t worry. Join our Talent Network and get notified about the latest opportunities. Join Talent Network >  \n",
      "\n",
      "\n",
      "\n",
      " \n",
      " \n",
      "Application InfoApplication FAQPrivacy StatementLearn more about IBM          Contact IBM Privacy Terms of use Accessibility \n",
      "\n",
      " \n",
      " \n",
      "Page load link\n",
      "\n",
      "\n",
      "\n",
      "\n",
      "\n",
      "\n",
      "\n",
      "\n",
      "\n",
      "\n",
      "\n",
      "\n",
      "\n",
      "\n",
      "\n",
      "\n",
      "\n",
      "\n",
      "\n",
      "\n",
      "\n",
      "\n",
      "\n",
      "\n",
      "\n",
      "\n",
      "\n",
      "\n",
      "\n",
      "\n",
      "\n",
      "\n",
      "\n",
      "\n",
      "\n",
      "\n",
      "\n",
      "\n",
      "\n",
      "\n",
      "\n",
      "\n",
      "0.035907030105591s Specific job #21035348 - https://jobsapi-internal.m-cloud.io/api/job?jobid=21035348 \n",
      "\n",
      "\n",
      "\n"
     ]
    }
   ],
   "source": [
    "from langchain_community.document_loaders import WebBaseLoader\n",
    "\n",
    "loader = WebBaseLoader(\"https://careers.ibm.com/job/21035348/computer-science-ai-reasoning-foundations-intern-2025-yorktown-heights-ny/?codes=SN_LinkedIn&Codes=SN_LinkedIn\")\n",
    "page_data = loader.load().pop().page_content\n",
    "print(page_data)"
   ]
  },
  {
   "cell_type": "code",
   "execution_count": 4,
   "id": "e932c76c-b98d-41b1-aad7-cdff48692fef",
   "metadata": {},
   "outputs": [
    {
     "data": {
      "text/plain": [
       "str"
      ]
     },
     "execution_count": 4,
     "metadata": {},
     "output_type": "execute_result"
    }
   ],
   "source": [
    "from langchain_core.prompts import PromptTemplate\n",
    "\n",
    "prompt_extract = PromptTemplate.from_template(\n",
    "        \"\"\"\n",
    "        ### SCRAPED TEXT FROM WEBSITE:\n",
    "        {page_data}\n",
    "        ### INSTRUCTION:\n",
    "        The scraped text is from the career's page of a website.\n",
    "        Your job is to extract the job postings and return them in JSON format containing the \n",
    "        following keys: `role`, `experience`, `skills` and `description`.\n",
    "        Only return the valid JSON.\n",
    "        ### VALID JSON (NO PREAMBLE):    \n",
    "        \"\"\"\n",
    ")\n",
    "\n",
    "chain_extract = prompt_extract | llm \n",
    "res = chain_extract.invoke(input={'page_data':page_data})\n",
    "type(res.content)"
   ]
  },
  {
   "cell_type": "code",
   "execution_count": 5,
   "id": "fd481eef-c5ca-4b27-b227-7e2791316d52",
   "metadata": {},
   "outputs": [
    {
     "data": {
      "text/plain": [
       "{'role': 'Computer Science AI Reasoning Foundations Intern: 2025',\n",
       " 'experience': 'Graduate students pursuing PhD or MS',\n",
       " 'skills': ['AI/ML/Math/CS',\n",
       "  'AI architectures',\n",
       "  'foundation models',\n",
       "  'reasoning',\n",
       "  'Python',\n",
       "  'PyTorch',\n",
       "  'TensorFlow',\n",
       "  'AI reasoning',\n",
       "  'symbolic and neuro-symbolic AI methods'],\n",
       " 'description': 'The Exploratory Computer Sciences program at IBM Research is seeking candidates who will contribute to foundational research topics in AI. This is for a 2025 summer internship with the following start dates: May – August or June – September for quarter system schools. IBM research interns are expected to develop innovative ideas and concepts (theoretical or experimental) while performing advanced scientific or engineering tasks resulting in highly complex, original and creative scientific or engineering achievements.'}"
      ]
     },
     "execution_count": 5,
     "metadata": {},
     "output_type": "execute_result"
    }
   ],
   "source": [
    "from langchain_core.output_parsers import JsonOutputParser\n",
    "\n",
    "json_parser = JsonOutputParser()\n",
    "json_res = json_parser.parse(res.content)\n",
    "json_res"
   ]
  },
  {
   "cell_type": "code",
   "execution_count": 6,
   "id": "6e290c81-1ad0-482f-b219-d440765a90a4",
   "metadata": {},
   "outputs": [
    {
     "data": {
      "text/plain": [
       "dict"
      ]
     },
     "execution_count": 6,
     "metadata": {},
     "output_type": "execute_result"
    }
   ],
   "source": [
    "type(json_res)"
   ]
  },
  {
   "cell_type": "code",
   "execution_count": 7,
   "id": "3ab9b17e-0b35-480e-9476-9458729769e3",
   "metadata": {},
   "outputs": [
    {
     "data": {
      "text/html": [
       "<div>\n",
       "<style scoped>\n",
       "    .dataframe tbody tr th:only-of-type {\n",
       "        vertical-align: middle;\n",
       "    }\n",
       "\n",
       "    .dataframe tbody tr th {\n",
       "        vertical-align: top;\n",
       "    }\n",
       "\n",
       "    .dataframe thead th {\n",
       "        text-align: right;\n",
       "    }\n",
       "</style>\n",
       "<table border=\"1\" class=\"dataframe\">\n",
       "  <thead>\n",
       "    <tr style=\"text-align: right;\">\n",
       "      <th></th>\n",
       "      <th>Tech Stack</th>\n",
       "      <th>Links</th>\n",
       "    </tr>\n",
       "  </thead>\n",
       "  <tbody>\n",
       "    <tr>\n",
       "      <th>0</th>\n",
       "      <td>Python Developer (Backend, API)</td>\n",
       "      <td>https://example.com/python-developer-portfolio</td>\n",
       "    </tr>\n",
       "    <tr>\n",
       "      <th>1</th>\n",
       "      <td>Machine Learning Engineer (Python, TensorFlow,...</td>\n",
       "      <td>https://example.com/ml-engineer-portfolio</td>\n",
       "    </tr>\n",
       "    <tr>\n",
       "      <th>2</th>\n",
       "      <td>AI Engineer (Python, TensorFlow, OpenCV)</td>\n",
       "      <td>https://example.com/ai-engineer-portfolio</td>\n",
       "    </tr>\n",
       "    <tr>\n",
       "      <th>3</th>\n",
       "      <td>MLOps Engineer (Kubeflow, Docker, Kubernetes)</td>\n",
       "      <td>https://example.com/mlops-portfolio</td>\n",
       "    </tr>\n",
       "    <tr>\n",
       "      <th>4</th>\n",
       "      <td>Data Analyst (Python, SQL, Power BI)</td>\n",
       "      <td>https://example.com/data-analyst-portfolio</td>\n",
       "    </tr>\n",
       "    <tr>\n",
       "      <th>5</th>\n",
       "      <td>Data Engineer (Python, Spark, AWS)</td>\n",
       "      <td>https://example.com/data-engineer-portfolio</td>\n",
       "    </tr>\n",
       "    <tr>\n",
       "      <th>6</th>\n",
       "      <td>Data Scientist (Python, scikit-learn, Pandas)</td>\n",
       "      <td>https://example.com/data-scientist-portfolio</td>\n",
       "    </tr>\n",
       "    <tr>\n",
       "      <th>7</th>\n",
       "      <td>NLP Engineer (Python, SpaCy, Hugging Face)</td>\n",
       "      <td>https://example.com/nlp-engineer-portfolio</td>\n",
       "    </tr>\n",
       "    <tr>\n",
       "      <th>8</th>\n",
       "      <td>Big Data Engineer (Hadoop, Python, Hive)</td>\n",
       "      <td>https://example.com/big-data-engineer-portfolio</td>\n",
       "    </tr>\n",
       "    <tr>\n",
       "      <th>9</th>\n",
       "      <td>Computer Vision Engineer (Python, OpenCV, PyTo...</td>\n",
       "      <td>https://example.com/cv-engineer-portfolio</td>\n",
       "    </tr>\n",
       "    <tr>\n",
       "      <th>10</th>\n",
       "      <td>Data Architect (Python, Kafka, Redshift)</td>\n",
       "      <td>https://example.com/data-architect-portfolio</td>\n",
       "    </tr>\n",
       "    <tr>\n",
       "      <th>11</th>\n",
       "      <td>BI Developer (SQL, Python, Tableau)</td>\n",
       "      <td>https://example.com/bi-developer-portfolio</td>\n",
       "    </tr>\n",
       "    <tr>\n",
       "      <th>12</th>\n",
       "      <td>AI Researcher (Python, PyTorch, JAX)</td>\n",
       "      <td>https://example.com/ai-researcher-portfolio</td>\n",
       "    </tr>\n",
       "    <tr>\n",
       "      <th>13</th>\n",
       "      <td>Deep Learning Engineer (Python, TensorFlow, Ke...</td>\n",
       "      <td>https://example.com/dl-engineer-portfolio</td>\n",
       "    </tr>\n",
       "    <tr>\n",
       "      <th>14</th>\n",
       "      <td>Full-Stack Data Engineer (Python, SQL, Flask)</td>\n",
       "      <td>https://example.com/full-stack-data-portfolio</td>\n",
       "    </tr>\n",
       "  </tbody>\n",
       "</table>\n",
       "</div>"
      ],
      "text/plain": [
       "                                           Tech Stack  \\\n",
       "0                     Python Developer (Backend, API)   \n",
       "1   Machine Learning Engineer (Python, TensorFlow,...   \n",
       "2            AI Engineer (Python, TensorFlow, OpenCV)   \n",
       "3       MLOps Engineer (Kubeflow, Docker, Kubernetes)   \n",
       "4                Data Analyst (Python, SQL, Power BI)   \n",
       "5                  Data Engineer (Python, Spark, AWS)   \n",
       "6       Data Scientist (Python, scikit-learn, Pandas)   \n",
       "7          NLP Engineer (Python, SpaCy, Hugging Face)   \n",
       "8            Big Data Engineer (Hadoop, Python, Hive)   \n",
       "9   Computer Vision Engineer (Python, OpenCV, PyTo...   \n",
       "10           Data Architect (Python, Kafka, Redshift)   \n",
       "11                BI Developer (SQL, Python, Tableau)   \n",
       "12               AI Researcher (Python, PyTorch, JAX)   \n",
       "13  Deep Learning Engineer (Python, TensorFlow, Ke...   \n",
       "14      Full-Stack Data Engineer (Python, SQL, Flask)   \n",
       "\n",
       "                                              Links  \n",
       "0    https://example.com/python-developer-portfolio  \n",
       "1         https://example.com/ml-engineer-portfolio  \n",
       "2         https://example.com/ai-engineer-portfolio  \n",
       "3               https://example.com/mlops-portfolio  \n",
       "4        https://example.com/data-analyst-portfolio  \n",
       "5       https://example.com/data-engineer-portfolio  \n",
       "6      https://example.com/data-scientist-portfolio  \n",
       "7        https://example.com/nlp-engineer-portfolio  \n",
       "8   https://example.com/big-data-engineer-portfolio  \n",
       "9         https://example.com/cv-engineer-portfolio  \n",
       "10     https://example.com/data-architect-portfolio  \n",
       "11       https://example.com/bi-developer-portfolio  \n",
       "12      https://example.com/ai-researcher-portfolio  \n",
       "13        https://example.com/dl-engineer-portfolio  \n",
       "14    https://example.com/full-stack-data-portfolio  "
      ]
     },
     "execution_count": 7,
     "metadata": {},
     "output_type": "execute_result"
    }
   ],
   "source": [
    "import pandas as pd\n",
    "\n",
    "df = pd.read_csv(\"ai_data_roles_portfolios.csv\")\n",
    "df"
   ]
  },
  {
   "cell_type": "code",
   "execution_count": 8,
   "id": "be365f78-c2d7-4fae-af22-c6986eb14dc7",
   "metadata": {},
   "outputs": [
    {
     "name": "stdout",
     "output_type": "stream",
     "text": [
      "Index(['Tech Stack', 'Links'], dtype='object')\n"
     ]
    }
   ],
   "source": [
    "print(df.columns)\n"
   ]
  },
  {
   "cell_type": "code",
   "execution_count": 9,
   "id": "d5c81aef-d3f0-491c-a76a-c92539796e44",
   "metadata": {},
   "outputs": [],
   "source": [
    "import uuid\n",
    "import chromadb\n",
    "\n",
    "client = chromadb.PersistentClient('vectorstore')\n",
    "collection = client.get_or_create_collection(name=\"portfolio\")\n",
    "\n",
    "if not collection.count():\n",
    "    for _, row in df.iterrows():\n",
    "        collection.add(documents=row[\"Tech Stack\"],\n",
    "                       metadatas={\"links\": row[\"Links\"]},\n",
    "                       ids=[str(uuid.uuid4())])"
   ]
  },
  {
   "cell_type": "code",
   "execution_count": 15,
   "id": "75cf84c8-f5cb-488c-91a1-0d16fe2cacb7",
   "metadata": {},
   "outputs": [
    {
     "data": {
      "text/plain": [
       "[[{'links': 'https://example.com/ai-researcher-portfolio'},\n",
       "  {'links': 'https://example.com/ai-engineer-portfolio'}],\n",
       " [{'links': 'https://example.com/ai-engineer-portfolio'},\n",
       "  {'links': 'https://example.com/ai-researcher-portfolio'}],\n",
       " [{'links': 'https://example.com/data-scientist-portfolio'},\n",
       "  {'links': 'https://example.com/ml-engineer-portfolio'}],\n",
       " [{'links': 'https://example.com/ai-researcher-portfolio'},\n",
       "  {'links': 'https://example.com/data-scientist-portfolio'}],\n",
       " [{'links': 'https://example.com/python-developer-portfolio'},\n",
       "  {'links': 'https://example.com/data-scientist-portfolio'}],\n",
       " [{'links': 'https://example.com/ml-engineer-portfolio'},\n",
       "  {'links': 'https://example.com/cv-engineer-portfolio'}],\n",
       " [{'links': 'https://example.com/ml-engineer-portfolio'},\n",
       "  {'links': 'https://example.com/ai-engineer-portfolio'}],\n",
       " [{'links': 'https://example.com/ai-researcher-portfolio'},\n",
       "  {'links': 'https://example.com/ai-engineer-portfolio'}],\n",
       " [{'links': 'https://example.com/ai-researcher-portfolio'},\n",
       "  {'links': 'https://example.com/ai-engineer-portfolio'}]]"
      ]
     },
     "execution_count": 15,
     "metadata": {},
     "output_type": "execute_result"
    }
   ],
   "source": [
    "links = collection.query(query_texts=job['skills'], n_results=2).get('metadatas', [])\n",
    "links"
   ]
  },
  {
   "cell_type": "code",
   "execution_count": 14,
   "id": "2da296c1-aea6-4114-92f2-25645276aac1",
   "metadata": {},
   "outputs": [
    {
     "data": {
      "text/plain": [
       "['AI/ML/Math/CS',\n",
       " 'AI architectures',\n",
       " 'foundation models',\n",
       " 'reasoning',\n",
       " 'Python',\n",
       " 'PyTorch',\n",
       " 'TensorFlow',\n",
       " 'AI reasoning',\n",
       " 'symbolic and neuro-symbolic AI methods']"
      ]
     },
     "execution_count": 14,
     "metadata": {},
     "output_type": "execute_result"
    }
   ],
   "source": [
    "job = json_res\n",
    "job['skills']"
   ]
  },
  {
   "cell_type": "code",
   "execution_count": 17,
   "id": "255488d8-dbfb-4637-83b9-2021b759a052",
   "metadata": {},
   "outputs": [
    {
     "name": "stdout",
     "output_type": "stream",
     "text": [
      "Subject: Application for Computer Science AI Reasoning Foundations Intern: 2025\n",
      "\n",
      "Dear Hiring Manager,\n",
      "\n",
      "I am excited to apply for the Computer Science AI Reasoning Foundations Intern: 2025 position at IBM Research. As a Master's student in Data Analytics at Clark University, I am confident that my strong foundation in data science, machine learning, and AI, along with hands-on project experience, make me an ideal candidate for this role.\n",
      "\n",
      "Throughout my academic journey, I have developed a deep understanding of AI/ML/Math/CS concepts, including AI architectures, foundation models, and reasoning. My proficiency in Python, PyTorch, and TensorFlow has enabled me to work on various projects that involve AI reasoning and symbolic and neuro-symbolic AI methods. I am eager to contribute to foundational research topics in AI and develop innovative ideas and concepts that can result in highly complex, original, and creative scientific or engineering achievements.\n",
      "\n",
      "As a data analytics student, I have honed my skills in Python, machine learning, SQL, and deep learning techniques, which align well with the demands of modern AI-driven enterprises. I am confident in my ability to help your team leverage data and AI technologies to foster scalability, optimize processes, reduce costs, and enhance overall efficiency.\n",
      "\n",
      "I would like to highlight my passion for AI and machine learning, and my ability to work on complex projects that involve data analysis, modeling, and interpretation. I am excited about the opportunity to contribute to your team and learn from experienced professionals in the field.\n",
      "\n",
      "To learn more about my skills and experience, I invite you to visit my LinkedIn profile at https://www.linkedin.com/in/suprathickreddy/ and my GitHub repository at https://github.com/suprathickreddy. I have showcased my projects and achievements on these platforms, and I am confident that they demonstrate my capabilities and potential as a researcher and developer.\n",
      "\n",
      "Thank you for considering my application. I look forward to the opportunity to discuss my qualifications further and learn more about the team's work.\n",
      "\n",
      "Best regards,\n",
      "\n",
      "Srinathareddy Suprathickreddy\n"
     ]
    }
   ],
   "source": [
    "prompt_email = PromptTemplate.from_template(\n",
    "        \"\"\"\n",
    "        ### JOB DESCRIPTION:\n",
    "        {job_description}\n",
    "        \n",
    "        ### INSTRUCTION:\n",
    "        You are Srinathareddy Suprathickreddy, currently pursuing a Master’s in Data Analytics at Clark University. With a strong foundation in data science, machine learning, and AI, along with hands-on project experience,\n",
    "        excited about the opportunity to contribute to your team at [Company Name] \n",
    "        At Clark University, I have deepened my knowledge of data analytics and honed my skills in Python, machine learning, SQL, and deep learning techniques, which align well with the demands of modern AI-driven enterprises.\n",
    "        I am confident in my ability to help your team leverage data and AI technologies to foster scalability, optimize processes, reduce costs, and enhance overall efficiency. \n",
    "        Your job is to write a cold email to the hiring manager regarding the job mentioned above describing the capability of me \n",
    "        in fulfilling their needs.\n",
    "        also add my linkedin [https://www.linkedin.com/in/suprathickreddy/] and github links [https://github.com/suprathickreddy] to show my profile details\n",
    "        Remember you are suprathickreddy, Masters in Data Analytics at Clark University. \n",
    "        Do not provide a preamble.\n",
    "        ### EMAIL (NO PREAMBLE):\n",
    "        \n",
    "        \"\"\"\n",
    "        )\n",
    "\n",
    "chain_email = prompt_email | llm\n",
    "res = chain_email.invoke({\"job_description\": str(job), \"link_list\": links})\n",
    "print(res.content)"
   ]
  },
  {
   "cell_type": "code",
   "execution_count": null,
   "id": "6ff4b875-cfee-451c-a860-d597aab7e33b",
   "metadata": {},
   "outputs": [],
   "source": []
  },
  {
   "cell_type": "code",
   "execution_count": null,
   "id": "da95b69b-22f6-4304-81c3-1906773b5080",
   "metadata": {},
   "outputs": [],
   "source": []
  }
 ],
 "metadata": {
  "kernelspec": {
   "display_name": "Python 3 (ipykernel)",
   "language": "python",
   "name": "python3"
  },
  "language_info": {
   "codemirror_mode": {
    "name": "ipython",
    "version": 3
   },
   "file_extension": ".py",
   "mimetype": "text/x-python",
   "name": "python",
   "nbconvert_exporter": "python",
   "pygments_lexer": "ipython3",
   "version": "3.11.8"
  }
 },
 "nbformat": 4,
 "nbformat_minor": 5
}
